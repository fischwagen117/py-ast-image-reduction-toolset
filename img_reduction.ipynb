{
 "cells": [
  {
   "cell_type": "code",
   "execution_count": 46,
   "id": "f4229172-4713-4df2-8046-34aea982c1ef",
   "metadata": {},
   "outputs": [],
   "source": [
    "from astropy import units as u                                                                                                             \n",
    "from astropy.nddata import CCDData                                                                                                         \n",
    "from astropy.io import fits\n",
    "from astropy.stats import sigma_clip\n",
    "import ccdproc\n",
    "from ccdproc import Combiner        \n",
    "import numpy as np\n",
    "import numpy.ma as ma\n",
    "import matplotlib.pyplot as plt\n",
    "import glob\n",
    "%matplotlib inline\n",
    "plt.style.use(\"dark_background\")\n",
    "dr = \"/home/fischwagen/prg/astronomy/BDF/\"\n",
    "plt.rcParams['figure.figsize'] = [14, 7]"
   ]
  },
  {
   "cell_type": "code",
   "execution_count": null,
   "id": "19afc621-4d46-4a54-95b8-875a4f725193",
   "metadata": {},
   "outputs": [],
   "source": []
  },
  {
   "cell_type": "markdown",
   "id": "daa66e0a-aea6-4a08-b3be-d6e081069514",
   "metadata": {},
   "source": [
    "# Move most used functions to different file, because who tf knows what's going on here"
   ]
  },
  {
   "cell_type": "code",
   "execution_count": 100,
   "id": "4c84c814-feb7-41a3-aae6-420d80b85dbd",
   "metadata": {},
   "outputs": [],
   "source": [
    "def save_fits(data, file_name, overwrite_flag=True):\n",
    "    hdu = fits.PrimaryHDU(data=data)\n",
    "    hudl = fits.HDUList([hdu])\n",
    "    hudl.writeto(file_name, overwrite=overwrite_flag)"
   ]
  },
  {
   "cell_type": "code",
   "execution_count": 162,
   "id": "1e1d2a99-c6d7-47d3-9bdb-36fea34f12e1",
   "metadata": {},
   "outputs": [],
   "source": [
    "def trim_fits(arr):\n",
    "    shape = arr.shape\n",
    "    ccd = CCDData(arr, unit=u.adu)\n",
    "    ccd = ccdproc.trim_image(ccd[:shape[0]-17, :])\n",
    "    ccd = ccdproc.trim_image(ccd[:, 12:])\n",
    "    return ccd"
   ]
  },
  {
   "cell_type": "code",
   "execution_count": 3,
   "id": "06add07c-98bc-45af-8e8f-93ad96599b25",
   "metadata": {},
   "outputs": [],
   "source": [
    "def trim_fits_big(arr):\n",
    "    shape = arr.shape\n",
    "    ccd = CCDData(arr, unit=u.adu)\n",
    "    ccd = ccdproc.trim_image(ccd[:shape[0]-34, :])\n",
    "    ccd = ccdproc.trim_image(ccd[:, 24:])\n",
    "    return ccd"
   ]
  },
  {
   "cell_type": "code",
   "execution_count": 4,
   "id": "566f124c-60e7-49db-ac25-06e00f7ce1d9",
   "metadata": {},
   "outputs": [],
   "source": [
    "def show_fits(file_path):\n",
    "    d = fits.getdata(file_path)\n",
    "    plt.imshow(d, cmap=\"gray\")\n",
    "    plt.colorbar()"
   ]
  },
  {
   "cell_type": "code",
   "execution_count": 13,
   "id": "30de8662-d988-4821-89e1-de97c4c8b459",
   "metadata": {},
   "outputs": [],
   "source": [
    "def num_tests(python_file, aij_file):\n",
    "    py = fits.getdata(python_file)\n",
    "    aij = fits.getdata(aij_file)\n",
    "    aij = trim_fits_big(aij)\n",
    "    print(\"std py: \", np.std(py))\n",
    "    print(\"std aij: \", np.std(aij))\n",
    "    print(\"median py: \", np.median(py))\n",
    "    print(\"median aij: \", np.median(aij))\n",
    "    #return py - aij"
   ]
  },
  {
   "cell_type": "code",
   "execution_count": 6,
   "id": "055c1730-465e-4911-8565-063df47f3717",
   "metadata": {},
   "outputs": [],
   "source": [
    "def bin_image(arr, block_size):\n",
    "    return ccdproc.block_average(arr, block_size=block_size)"
   ]
  },
  {
   "cell_type": "code",
   "execution_count": 8,
   "id": "f4656c6f-d16d-4563-b5c5-4ac4a857dd9b",
   "metadata": {},
   "outputs": [],
   "source": [
    "def create_bias(file_path: str, out_name: str, overwrite=True) -> None:\n",
    "    header_red = False\n",
    "    data = []\n",
    "    files = glob.glob(file_path)\n",
    "    for file in files:\n",
    "        if header_red == False:\n",
    "            header = fits.getheader(file)\n",
    "            header_red == True\n",
    "        ccd = CCDData(fits.getdata(file), unit=u.adu)\n",
    "        data.append(ccd)\n",
    "    combiner = Combiner(data)\n",
    "    combined_median = combiner.median_combine()\n",
    "    #combined_median = ccdproc.subtract_overscan(combined_median, overscan=combined_median[12:, :], overscan_axis=None)\n",
    "    #save_fits(combined_median, out_name, overwrite)\n",
    "    fits.writeto(out_name, combined_median, header, overwrite=overwrite)"
   ]
  },
  {
   "cell_type": "code",
   "execution_count": 9,
   "id": "e24aee2c-f3dd-4fec-96bb-fef8199b0e3a",
   "metadata": {},
   "outputs": [],
   "source": [
    "create_bias(f\"{dr}BIAS*.FIT\", \"mbias.fit\")"
   ]
  },
  {
   "cell_type": "code",
   "execution_count": 10,
   "id": "1e699118-0905-4a71-9de1-998af2d87f1b",
   "metadata": {},
   "outputs": [],
   "source": [
    "def create_dark(file_path, out_name, overwrite=True, bias_path=None):\n",
    "    header_red = False\n",
    "    if bias_path is not None:\n",
    "        bias = CCDData(fits.getdata(bias_path), unit=u.adu)\n",
    "        \n",
    "    data = []\n",
    "    files = glob.glob(file_path)\n",
    "    for file in files:\n",
    "        if header_red == False:\n",
    "            header = fits.getheader(file)\n",
    "        ccd = CCDData(fits.getdata(file), unit=u.adu)\n",
    "        data.append(ccd)\n",
    "    \n",
    "    combiner = Combiner(data)\n",
    "    combined_median = combiner.median_combine()\n",
    "    #combined_median = ccdproc.subtract_overscan(combined_median, overscan=combined_median[12:, :], overscan_axis=None)\n",
    "    #save_fits(combined_median, out_name, overwrite)\n",
    "    \n",
    "    if bias_path is not None:\n",
    "        result = combined_median.subtract(bias)\n",
    "        fits.writeto(out_name, result, header, overwrite=overwrite)\n",
    "        #save_fits(result, out_name, overwrite)\n",
    "    else:\n",
    "        fits.writeto(out_name, combined_median, header, overwrite=overwrite)\n",
    "        #save_fits(combined_median, out_name, overwrite)"
   ]
  },
  {
   "cell_type": "code",
   "execution_count": 11,
   "id": "b1a46b38-6a04-4ea7-892d-e02e7bcb423b",
   "metadata": {},
   "outputs": [],
   "source": [
    "create_dark(f\"{dr}DARK*.FIT\", \"mdark.fit\", \"mbias.fit\")"
   ]
  },
  {
   "cell_type": "code",
   "execution_count": 12,
   "id": "be689798-ae9b-4988-b73c-346f4d4fdc4d",
   "metadata": {
    "collapsed": true,
    "jupyter": {
     "outputs_hidden": true
    }
   },
   "outputs": [
    {
     "data": {
      "image/png": "[encoded data removed]",
      "text/plain": [
       "<Figure size 1400x700 with 2 Axes>"
      ]
     },
     "metadata": {},
     "output_type": "display_data"
    }
   ],
   "source": [
    "show_fits(\"mdark.fit\")"
   ]
  },
  {
   "cell_type": "code",
   "execution_count": 13,
   "id": "fd7f4e36-8e8f-4349-8fad-517b9d0708df",
   "metadata": {},
   "outputs": [],
   "source": [
    "def create_flat(file_path, out_name, overwrite=True, bias_path=None, dark_path=None):\n",
    "    header_red = False\n",
    "    bd_remove = False\n",
    "    if bias_path is not None and dark_path is not None:\n",
    "        bd_remove = True\n",
    "        bias_data = fits.getdata(bias_path) \n",
    "        dark_data = fits.getdata(dark_path)\n",
    "        bias_max = np.max(bias_data)\n",
    "        dark_max = np.max(dark_data)\n",
    "        dark = CCDData(bias_data, unit=u.adu)\n",
    "        bias = CCDData(dark_data, unit=u.adu)\n",
    "    elif bias_path is not None or dark_path is not None:\n",
    "        print(\"Error: provide bias and dark images or none\")\n",
    "        exit(1)\n",
    "        \n",
    "    data = []\n",
    "    files = glob.glob(file_path)\n",
    "    for file in files:\n",
    "        fits_file = fits.getdata(file)\n",
    "        if header_red == False:\n",
    "            header = fits.getheader(file, 0)\n",
    "            header_red = True\n",
    "        flat_av = np.mean(fits_file)\n",
    "        ccd = CCDData(fits_file, unit=u.adu)\n",
    "        if bd_remove == True:\n",
    "            ccd = ccd.subtract(bias)\n",
    "            ccd = ccd.subtract(dark)\n",
    "        ccd = ccd.divide(flat_av)\n",
    "        data.append(ccd)\n",
    "    \n",
    "    combiner = Combiner(data)\n",
    "    combined_median = combiner.median_combine()\n",
    "    #combined_median = ccdproc.subtract_overscan(combined_median, overscan=combined_median[12:, :], overscan_axis=None)\n",
    "    #save_fits(combined_median, out_name, overwrite)\n",
    "    #hdulist = combined_median.to_hdu()\n",
    "    #combined_median.write(out_name, overwrite=True)\n",
    "    fits.writeto(out_name, combined_median, header, overwrite=overwrite)"
   ]
  },
  {
   "cell_type": "code",
   "execution_count": 14,
   "id": "b3490458-46be-4e99-b85b-86e91c40db29",
   "metadata": {
    "collapsed": true,
    "jupyter": {
     "outputs_hidden": true,
     "source_hidden": true
    }
   },
   "outputs": [
    {
     "ename": "TypeError",
     "evalue": "CCDData objects are not the same size.",
     "output_type": "error",
     "traceback": [
      "\u001b[0;31m---------------------------------------------------------------------------\u001b[0m",
      "\u001b[0;31mTypeError\u001b[0m                                 Traceback (most recent call last)",
      "Cell \u001b[0;32mIn[14], line 1\u001b[0m\n\u001b[0;32m----> 1\u001b[0m \u001b[43mcreate_flat\u001b[49m\u001b[43m(\u001b[49m\u001b[38;5;124;43mf\u001b[39;49m\u001b[38;5;124;43m\"\u001b[39;49m\u001b[38;5;124;43m/home/fischwagen/prg/astronomy/flat/flat/*\u001b[39;49m\u001b[38;5;124;43m\"\u001b[39;49m\u001b[43m,\u001b[49m\u001b[43m \u001b[49m\u001b[38;5;124;43m\"\u001b[39;49m\u001b[38;5;124;43m/home/fischwagen/prg/astronomy/flat/flat/mflat.fit\u001b[39;49m\u001b[38;5;124;43m\"\u001b[39;49m\u001b[43m)\u001b[49m\n",
      "Cell \u001b[0;32mIn[13], line 31\u001b[0m, in \u001b[0;36mcreate_flat\u001b[0;34m(file_path, out_name, overwrite, bias_path, dark_path)\u001b[0m\n\u001b[1;32m     28\u001b[0m     ccd \u001b[38;5;241m=\u001b[39m ccd\u001b[38;5;241m.\u001b[39mdivide(flat_av)\n\u001b[1;32m     29\u001b[0m     data\u001b[38;5;241m.\u001b[39mappend(ccd)\n\u001b[0;32m---> 31\u001b[0m combiner \u001b[38;5;241m=\u001b[39m \u001b[43mCombiner\u001b[49m\u001b[43m(\u001b[49m\u001b[43mdata\u001b[49m\u001b[43m)\u001b[49m\n\u001b[1;32m     32\u001b[0m combined_median \u001b[38;5;241m=\u001b[39m combiner\u001b[38;5;241m.\u001b[39mmedian_combine()\n\u001b[1;32m     33\u001b[0m \u001b[38;5;66;03m#combined_median = ccdproc.subtract_overscan(combined_median, overscan=combined_median[12:, :], overscan_axis=None)\u001b[39;00m\n\u001b[1;32m     34\u001b[0m \u001b[38;5;66;03m#save_fits(combined_median, out_name, overwrite)\u001b[39;00m\n\u001b[1;32m     35\u001b[0m \u001b[38;5;66;03m#hdulist = combined_median.to_hdu()\u001b[39;00m\n\u001b[1;32m     36\u001b[0m \u001b[38;5;66;03m#combined_median.write(out_name, overwrite=True)\u001b[39;00m\n",
      "File \u001b[0;32m~/math/lib64/python3.12/site-packages/ccdproc/combiner.py:120\u001b[0m, in \u001b[0;36mCombiner.__init__\u001b[0;34m(self, ccd_iter, dtype)\u001b[0m\n\u001b[1;32m    118\u001b[0m \u001b[38;5;28;01melse\u001b[39;00m:\n\u001b[1;32m    119\u001b[0m     \u001b[38;5;28;01mif\u001b[39;00m \u001b[38;5;129;01mnot\u001b[39;00m (default_shape \u001b[38;5;241m==\u001b[39m ccd\u001b[38;5;241m.\u001b[39mshape):\n\u001b[0;32m--> 120\u001b[0m         \u001b[38;5;28;01mraise\u001b[39;00m \u001b[38;5;167;01mTypeError\u001b[39;00m(\u001b[38;5;124m\"\u001b[39m\u001b[38;5;124mCCDData objects are not the same size.\u001b[39m\u001b[38;5;124m\"\u001b[39m)\n\u001b[1;32m    122\u001b[0m \u001b[38;5;66;03m# raise an error if the units are different\u001b[39;00m\n\u001b[1;32m    123\u001b[0m \u001b[38;5;28;01mif\u001b[39;00m default_unit \u001b[38;5;129;01mis\u001b[39;00m \u001b[38;5;28;01mNone\u001b[39;00m:\n",
      "\u001b[0;31mTypeError\u001b[0m: CCDData objects are not the same size."
     ]
    }
   ],
   "source": [
    "create_flat(f\"/home/fischwagen/prg/astronomy/flat/flat/*\", \"/home/fischwagen/prg/astronomy/flat/flat/mflat.fit\")"
   ]
  },
  {
   "cell_type": "code",
   "execution_count": null,
   "id": "f1397b33-c1ca-4dec-acf1-0eb20a688fe0",
   "metadata": {
    "scrolled": true
   },
   "outputs": [],
   "source": [
    "show_fits(\"mflat.fit\")"
   ]
  },
  {
   "cell_type": "code",
   "execution_count": null,
   "id": "6aebde02-9a7e-4159-b0a8-9fa0692393eb",
   "metadata": {},
   "outputs": [],
   "source": [
    "def remove_cold_pixels(arr):\n",
    "    \"\"\"\n",
    "    Function removes pixels with negative values, assuming trimmed image.\n",
    "    \"\"\"\n",
    "    #m = np.array([[0, 0, 0],\n",
    "    #              [0, 1, 0],\n",
    "    #              [0, 0, 0]])\n",
    "    shape = arr.shape\n",
    "    neg_vals = np.where(arr < 0)\n",
    "    for i, j in zip(neg_vals[0], neg_vals[1]):\n",
    "        med = arr[i-1:i+2, j-1:j+2]\n",
    "        #mask_med = ma.array(med, mask=m)\n",
    "        #median = np.median(mask_med)\n",
    "        median = np.median(med)\n",
    "        arr[i, j] = median\n",
    "    return arr"
   ]
  },
  {
   "cell_type": "code",
   "execution_count": 24,
   "id": "5bbab109-728e-4213-9b63-55570e30ddb5",
   "metadata": {},
   "outputs": [],
   "source": [
    "def remove_hot_pix(arr, hot_pix_file):\n",
    "    x, y = [], []\n",
    "    with open(hot_pix_file, \"r\") as f:\n",
    "        lines = f.readlines()\n",
    "        for line in lines:\n",
    "            text = line.split()\n",
    "            x.append(int(text[0]))\n",
    "            y.append(int(text[1]))\n",
    "\n",
    "    for i, j in zip(x, y):\n",
    "        med = np.median(arr[i-1:i+2, j-1:j+2])\n",
    "        arr[i, j] = med\n",
    "    return arr"
   ]
  },
  {
   "cell_type": "code",
   "execution_count": null,
   "id": "b5ce1380-459e-4311-9529-6d707c812e81",
   "metadata": {},
   "outputs": [],
   "source": [
    "t = fits.getdata(\"/home/fischwagen/prg/astronomy/test_red/r1.fit\")\n",
    "t =remove_cold_pixels(t)\n",
    "plt.imshow(t, cmap=\"gray\", vmin=10000, vmax=65535)\n",
    "plt.colorbar()"
   ]
  },
  {
   "cell_type": "code",
   "execution_count": null,
   "id": "7287314f-8e90-47bc-ba5f-6a9f2509ab7f",
   "metadata": {},
   "outputs": [],
   "source": [
    "def create_reduced_image(image, bias, dark, flat, out_name):\n",
    "    \"\"\"\n",
    "    Function does image reduction and trimming.\n",
    "    image, bias, dark, flat - paths to images\n",
    "    \"\"\"\n",
    "    header = fits.getheader(image, 0)\n",
    "    im = CCDData.read(image, unit=u.adu)\n",
    "    bs = CCDData.read(bias, unit=u.adu)\n",
    "    dk = CCDData.read(dark, unit=u.adu)\n",
    "    ft = CCDData.read(flat, unit=u.adu)\n",
    "    \n",
    "    im = trim_fits(im)\n",
    "    bs = trim_fits(bs)\n",
    "    dk = trim_fits(dk)\n",
    "    ft = trim_fits(ft)\n",
    "    #dk.header['exposure'] = 180.0\n",
    "    header[\"HISTORY\"] = \"trimmed image\"\n",
    "    bias_subtracted = ccdproc.subtract_bias(im, bs)\n",
    "    header[\"HISTORY\"] = \"bias corrected\"\n",
    "    dark_subtracted = ccdproc.subtract_dark(bias_subtracted, dk, exposure_time='EXPOSURE', exposure_unit=u.second, scale=False)\n",
    "    flat_corr = ccdproc.flat_correct(dark_subtracted, ft, min_value=0.001)\n",
    "    fits.writeto(out_name, flat_corr, header, overwrite=True)\n",
    "    reduced = fits.getdata(out_name)\n",
    "    reduced = np.clip(reduced, 0, 65535, dtype=np.uint16)\n",
    "    fits.writeto(out_name, flat_corr, header, overwrite=True)\n",
    "    #save_fits(flat_corr, out_name, True)\n",
    "    #return flat_corr"
   ]
  },
  {
   "cell_type": "code",
   "execution_count": null,
   "id": "1b6e06ec-e54d-478b-9698-9705c9e85695",
   "metadata": {},
   "outputs": [],
   "source": [
    "def create_reduced_image_big(image, bias, dark, flat, out_name, bin_size=1):\n",
    "    \"\"\"\n",
    "    Function does image reduction and trimming.\n",
    "    image, bias, dark, flat - paths to images\n",
    "    \"\"\"\n",
    "    h_info = \"HISTORY\"\n",
    "    #header = fits.getheader(image, 0)\n",
    "    im = CCDData.read(image, unit=u.adu)\n",
    "    bs = CCDData.read(bias, unit=u.adu)\n",
    "    dk = CCDData.read(dark, unit=u.adu)\n",
    "    ft = CCDData.read(flat, unit=u.adu)\n",
    "    \n",
    "    im = trim_fits_big(im)\n",
    "    bs = trim_fits_big(bs)\n",
    "    dk = trim_fits_big(dk)\n",
    "    ft = trim_fits_big(ft)\n",
    "    bias_subtracted = ccdproc.subtract_bias(im, bs)\n",
    "    dark_subtracted = ccdproc.subtract_dark(bias_subtracted, dk, exposure_time='EXPOSURE', exposure_unit=u.second, scale=False)\n",
    "    flat_corr = ccdproc.flat_correct(dark_subtracted, ft, min_value=0.001)\n",
    "    header = flat_corr.header\n",
    "    fits.writeto(out_name, flat_corr, header, overwrite=True)\n",
    "    reduced = fits.getdata(out_name)\n",
    "    \n",
    "    reduced = remove_hot_pix(reduced, \"/home/fischwagen/prg/astronomy/hot_bin1_gain0.dat\")\n",
    "    reduced = np.clip(reduced, 0, 65535)\n",
    "    if bin_size > 1:\n",
    "        reduced = bin_image(reduced, bin_size)\n",
    "        header[\"XBINNING\"] = bin_size\n",
    "        header[\"YBINNING\"] = bin_size\n",
    "    reduced = reduced.astype(np.uint16)\n",
    "    fits.writeto(out_name, reduced, header, overwrite=True)"
   ]
  },
  {
   "cell_type": "code",
   "execution_count": null,
   "id": "0bf234f2-6233-4657-af0d-3a1776fac92a",
   "metadata": {
    "jupyter": {
     "source_hidden": true
    }
   },
   "outputs": [],
   "source": [
    "#create_bias(\"/home/fischwagen/prg/astronomy/bias/*mode1*\", \"bias2.fit\", True)\n",
    "#create_dark(\"/home/fischwagen/prg/astronomy/dark/*mode1*\", \"dark2.fit\", True, \"bias2.fit\")\n",
    "#create_flat(\"/home/fischwagen/prg/astronomy/flat/*flat_B*\", \"flat2.fit\", True, \"bias2.fit\", \"dark2.fit\")\n",
    "create_flat(\"/home/fischwagen/prg/astronomy/flat/flat/2024-04-18_06-46-19__L_6.59s_1x1_0_0000_rawbkp.fits\", \n",
    "            \"/home/fischwagen/prg/astronomy/flat/flat/mflatTest.fit\", True, \n",
    "            \"/home/fischwagen/prg/astronomy/bias/mbias_qhy268_mode1_gain0_offset10_usb50_temp-10_bin1.fits\",\n",
    "            \"/home/fischwagen/prg/astronomy/dark/mdark120_qhy268_mode1_gain0_offset10_usb50_temp-10.fits\")"
   ]
  },
  {
   "cell_type": "code",
   "execution_count": null,
   "id": "8942c1e5-d61b-4dd8-b299-c9130a913a5e",
   "metadata": {},
   "outputs": [],
   "source": [
    "path = \"/home/fischwagen/prg/astronomy/\"\n",
    "#reduced = create_reduced_image(\"/home/fischwagen/astronomy/ngc2068/PAN4_90597_HOYS-UZ_00_NGC2068_00_B_00_2023_11_06_07_31_43.fits.gz\",\n",
    "#                     f\"{path}bias/bias_mode1_usb10_gain0_offset10_temp-10_bin2_05112023.fit\",\n",
    "#                     f\"{path}dark/dark_mode1_usb10_gain0_offset10_temp-10_bin2_05112023.fit\",\n",
    "#                     f\"{path}flat/master_flat_B.fits\")\n",
    "create_reduced_image_big(\"/home/fischwagen/prg/astronomy/test/2024-04-17_22-54-55_WASP-185b_R_60.00s_1x1_0_0001.fits\",\n",
    "                    f\"{path}bias/mbias_qhy268_mode1_gain0_offset10_usb50_temp-10_bin1.fits\",\n",
    "                    f\"{path}dark/mdark120_qhy268_mode1_gain0_offset10_usb50_temp-10.fits\",\n",
    "                    f\"{path}flat/flat/mflatTest.fit\", \"/home/fischwagen/prg/astronomy/test_red/finalFbinned.fit\", bin_size=2)"
   ]
  },
  {
   "cell_type": "raw",
   "id": "3de990e1-1e6b-4fa9-89d4-e858395d809f",
   "metadata": {
    "collapsed": true,
    "jupyter": {
     "outputs_hidden": true
    },
    "scrolled": true
   },
   "source": [
    "im = fits.getdata(\"reduced.fit\")\n",
    "plt.imshow(im, cmap=\"gray\")\n",
    "plt.colorbar()\n",
    "im = remove_cold_pixels(im)\n",
    "im = np.array(im, dtype=np.uint16)\n",
    "save_fits(im, \"reducedRC.fit\", True)"
   ]
  },
  {
   "cell_type": "markdown",
   "id": "38d8cc27-98a7-4738-9966-2893403b6104",
   "metadata": {},
   "source": [
    "## Testy"
   ]
  },
  {
   "cell_type": "code",
   "execution_count": null,
   "id": "023487fc-4fc7-43f2-9826-e6083802d2b7",
   "metadata": {
    "scrolled": true
   },
   "outputs": [],
   "source": [
    "for i in range(1, 9):\n",
    "    im = fits.getdata(f\"/home/fischwagen/prg/astronomy/test_red/r{i}.fit\")\n",
    "    im = remove_cold_pixels(im)\n",
    "    save_fits(im, f\"RC{i}.fit\", True)"
   ]
  },
  {
   "cell_type": "code",
   "execution_count": null,
   "id": "82ae3a5a-a1cf-4c2f-8043-ba99263211cd",
   "metadata": {},
   "outputs": [],
   "source": [
    "py = fits.getdata(\"test.fit\")\n",
    "aij = fits.getdata(\"/home/fischwagen/prg/astronomy/test/pipelineout/2024-04-17_22-54-55_WASP-185 b_R_60.00s_1x1_0_0001_out.fits\")\n",
    "aij = trim_fits_big(aij)"
   ]
  },
  {
   "cell_type": "code",
   "execution_count": null,
   "id": "b5676e61-5fec-4f85-8bc3-793a0489d186",
   "metadata": {
    "scrolled": true
   },
   "outputs": [],
   "source": [
    "print(np.std(py))\n",
    "print(np.std(aij))\n",
    "print(np.median(py ))\n",
    "print(np.median(aij))\n",
    "#res = py - aij"
   ]
  },
  {
   "cell_type": "code",
   "execution_count": null,
   "id": "41495fab-b5e4-409f-979e-4385206c978e",
   "metadata": {
    "jupyter": {
     "source_hidden": true
    },
    "scrolled": true
   },
   "outputs": [],
   "source": [
    "img = CCDData.read(\"/home/fischwagen/astronomy/ngc2068/PAN4_90597_HOYS-UZ_00_NGC2068_00_B_00_2023_11_06_07_31_43.fits.gz\", unit=u.adu)\n",
    "bs = CCDData.read(f\"{path}bias/bias_mode1_usb10_gain0_offset10_temp-10_bin2_05112023.fit\", unit=u.adu)\n",
    "dk = CCDData.read(f\"{path}dark/dark_mode1_usb10_gain0_offset10_temp-10_bin2_05112023.fit\", unit=u.adu)\n",
    "img = trim_fits(img)\n",
    "bs = trim_fits(bs)\n",
    "bias_subtracted = ccdproc.subtract_bias(img, bs)\n",
    "print(bs.shape)\n",
    "dk = trim_fits(dk)\n",
    "dark_subtracted = ccdproc.subtract_dark(bias_subtracted, dk, exposure_time='EXPOSURE', exposure_unit=u.second, scale=True)\n",
    "save_fits(dark_subtracted, \"abc.fit\")"
   ]
  },
  {
   "cell_type": "code",
   "execution_count": null,
   "id": "216ecfa7-a93e-4f1d-80b5-feb5699cfa56",
   "metadata": {
    "jupyter": {
     "source_hidden": true
    }
   },
   "outputs": [],
   "source": [
    "print(np.std(dark_subtracted))\n",
    "b = fits.getdata(f\"{path}ngc2068/dark/PAN4_90597_HOYS-UZ_00_NGC2068_00_B_00_2023_11_06_07_31_43_out.fits\")\n",
    "b = trim_fits(b)\n",
    "print(np.std(b))"
   ]
  },
  {
   "cell_type": "code",
   "execution_count": null,
   "id": "e0d94f48-20f0-4314-8b0b-176cc127f4f3",
   "metadata": {},
   "outputs": [],
   "source": [
    "r = fits.getdata(\"./RC1.fit\")\n",
    "r = trim_fits_big(r)\n",
    "r = np.array(r, dtype=np.uint16)\n",
    "save_fits(r, \"test.fit\")"
   ]
  },
  {
   "cell_type": "code",
   "execution_count": null,
   "id": "8bf84d36-87d1-4135-8d09-b428c17762cf",
   "metadata": {},
   "outputs": [],
   "source": [
    "res =num_tests(\"/home/fischwagen/prg/astronomy/test_red/final.fit\", \"/home/fischwagen/prg/astronomy/test/pipelineout/2024-04-17_22-54-55_WASP-185 b_R_60.00s_1x1_0_0001_out.fits\")"
   ]
  },
  {
   "cell_type": "code",
   "execution_count": null,
   "id": "57a362d7-885c-42d0-92a0-20f9cdfe0f71",
   "metadata": {
    "scrolled": true
   },
   "outputs": [],
   "source": [
    "plt.imshow(res, cmap=\"gray\")\n",
    "plt.colorbar()"
   ]
  },
  {
   "cell_type": "code",
   "execution_count": null,
   "id": "e8050630-5d84-4498-a683-5f62b90144f9",
   "metadata": {
    "jupyter": {
     "source_hidden": true
    }
   },
   "outputs": [],
   "source": [
    "test = fits.getdata(\"/home/fischwagen/prg/astronomy/test_red/finalF.fit\")\n",
    "#use block_reduce\n",
    "#def bin_image(arr):\n",
    "#    shape = arr.shape\n",
    "#    new = np.zeros((shape[0]//2, shape[1]//2))\n",
    "#    for i in range(shape[0]):\n",
    "#        for j in range(shape[1]):\n",
    "#            if i % 2 == 0 or j % 2 == 0:\n",
    "#                av = np.mean(arr[i:i+2, j:j+2]) \n",
    "#                new[i//2, j//2] = av\n",
    "#    return new\n",
    "\n",
    "def bin_image(arr, val):\n",
    "    return ccdproc.block_average(arr, val)"
   ]
  },
  {
   "cell_type": "code",
   "execution_count": null,
   "id": "21e6a152-fe07-477c-8dd6-5f737788e710",
   "metadata": {},
   "outputs": [],
   "source": [
    "binned = bin_image(test, 2)"
   ]
  },
  {
   "cell_type": "code",
   "execution_count": null,
   "id": "a66ce2a5-58ad-49c1-92ad-6a74588a7f17",
   "metadata": {},
   "outputs": [],
   "source": [
    "plt.imshow(binned, cmap=\"gray\", vmin = 0, vmax=1000)\n",
    "save_fits(binned, \"binned.fit\")"
   ]
  },
  {
   "cell_type": "code",
   "execution_count": 81,
   "id": "84aa1364-558d-4129-aa53-c42f20675610",
   "metadata": {},
   "outputs": [
    {
     "name": "stdout",
     "output_type": "stream",
     "text": [
      "(4210, 6280)\n"
     ]
    }
   ],
   "source": [
    "hot_rm = fits.getdata(\"/home/fischwagen/prg/astronomy/test/2024-04-17_22-54-55_WASP-185b_R_60.00s_1x1_0_0001.fits\")\n",
    "print(hot_rm.shape)\n",
    "#hot_rm = remove_hot_pix(hot_rm, \"/home/fischwagen/prg/astronomy/hot_bin1_gain0.dat\")\n",
    "#save_fits(hot_rm,"
   ]
  },
  {
   "cell_type": "code",
   "execution_count": 157,
   "id": "bbd8fc53-4002-4263-bdd4-4f60aae6a22c",
   "metadata": {},
   "outputs": [],
   "source": [
    "def rm_overscan(arr):\n",
    "    masked_ov = sigma_clip(arr[:, :12], sigma=2, masked=True)\n",
    "    #`print(np.sum(masked_ov))\n",
    "    #`print(arr.shape)\n",
    "    #`print(masked_ov.mask.shape)\n",
    "    zero = np.zeros_like(arr, dtype=np.bool)\n",
    "    #print(zero.shape)\n",
    "    zero[:, :12] = masked_ov.mask\n",
    "    zero = zero.astype(np.uint)\n",
    "    #print(np.sum(zero.astype(np.uint)))\n",
    "    \n",
    "    \n",
    "    #hdu = fits.PrimaryHDU(data=zero.astype(np.uint16))\n",
    "    hdu = fits.PrimaryHDU(data=masked_ov.astype(np.uint))\n",
    "    hudl = fits.HDUList([hdu])\n",
    "    hudl.writeto(\"mask.fit\", overwrite=True)\n",
    "    ccd = CCDData(arr, unit=u.adu, mask=zero)\n",
    "    return ccdproc.subtract_overscan(ccd, overscan=ccd[:, :12], overscan_axis=1, median=True)\n",
    "\n",
    "#rm_ovsc = rm_overscan(hot_rm)"
   ]
  },
  {
   "cell_type": "code",
   "execution_count": 168,
   "id": "b6b9a9a6-a6f1-43ae-8e0a-3321ee57150d",
   "metadata": {},
   "outputs": [],
   "source": [
    "def reduce2(image, flat, hot_pix_map):\n",
    "    im = fits.getdata(image)\n",
    "    im = remove_hot_pix(im, hot_pix_map)\n",
    "    im = bin_image(im, 2)\n",
    "    im = rm_overscan(im)\n",
    "    im = trim_fits(im)\n",
    "    \n",
    "    ft = fits.getdata(flat)\n",
    "    ft = remove_hot_pix(ft, hot_pix_map)\n",
    "    ft = bin_image(ft, 2)\n",
    "    ft_av = np.mean(ft)\n",
    "    ft = rm_overscan(ft)\n",
    "    ft = trim_fits(ft)\n",
    "    ft = ft.divide(ft_av)\n",
    "\n",
    "    reduced = im.divide(ft)\n",
    "    reduced = np.asarray(reduced, dtype=np.uint16)\n",
    "    return reduced\n",
    "    "
   ]
  },
  {
   "cell_type": "code",
   "execution_count": 169,
   "id": "7b71d0e5-bb48-4cc4-b492-fc4e6ff7248b",
   "metadata": {},
   "outputs": [
    {
     "name": "stdout",
     "output_type": "stream",
     "text": [
      "INFO: overwriting NDData's current unit with specified unit. [astropy.nddata.nddata]\n",
      "INFO: overwriting NDData's current unit with specified unit. [astropy.nddata.nddata]\n"
     ]
    }
   ],
   "source": [
    "reduced = reduce2(\"../astronomy/test/2024-04-17_22-54-55_WASP-185b_R_60.00s_1x1_0_0001.fits\",\n",
    "        \"../astronomy/flat/flat/2024-04-18_06-46-19__L_6.59s_1x1_0_0000_rawbkp.fits\",\n",
    "        \"../astronomy/hot_bin1_gain0.dat\")\n",
    "save_fits(reduced, \"reduced2.fit\", True)"
   ]
  },
  {
   "cell_type": "code",
   "execution_count": 45,
   "id": "c44daddd-d567-4cb8-b096-7694b2fa2b8f",
   "metadata": {},
   "outputs": [
    {
     "name": "stdout",
     "output_type": "stream",
     "text": [
      "float64\n"
     ]
    }
   ],
   "source": [
    "rpy = fits.getdata(\"./reduced2.fit\")\n",
    "raij = fits.getdata(\"../astronomy/test/2024-04-17_22-54-55_WASP-185b_R_60.00s_1x1_0_0001.fits\")\n",
    "raij = bin_image(raij, 2)\n",
    "save_fits(raij, \"binned.fit\", )"
   ]
  },
  {
   "cell_type": "code",
   "execution_count": 36,
   "id": "995dc95c-a1fe-4f0c-8f5c-3f2c245f9ddb",
   "metadata": {},
   "outputs": [
    {
     "name": "stdout",
     "output_type": "stream",
     "text": [
      "106.51875652725552\n",
      "72.8342908652039\n",
      "49.38581862529128\n",
      "204.0\n"
     ]
    }
   ],
   "source": [
    "print(np.std(rpy))\n",
    "print(np.std(raij))\n",
    "print(np.median(rpy))\n",
    "print(np.median(raij))"
   ]
  },
  {
   "cell_type": "code",
   "execution_count": null,
   "id": "8ffe828a-f0ae-400a-987a-9b6fe345b2a6",
   "metadata": {},
   "outputs": [],
   "source": []
  }
 ],
 "metadata": {
  "kernelspec": {
   "display_name": "Python 3 (ipykernel)",
   "language": "python",
   "name": "python3"
  },
  "language_info": {
   "codemirror_mode": {
    "name": "ipython",
    "version": 3
   },
   "file_extension": ".py",
   "mimetype": "text/x-python",
   "name": "python",
   "nbconvert_exporter": "python",
   "pygments_lexer": "ipython3",
   "version": "3.12.8"
  }
 },
 "nbformat": 4,
 "nbformat_minor": 5
}
