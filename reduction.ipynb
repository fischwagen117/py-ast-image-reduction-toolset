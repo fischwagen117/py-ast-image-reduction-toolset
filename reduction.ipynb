{
 "cells": [
  {
   "cell_type": "code",
   "execution_count": 1,
   "id": "855d64b1-2393-42cd-b391-4ae8b065cd58",
   "metadata": {},
   "outputs": [],
   "source": [
    "from astropy import units as u                                                                                                             \n",
    "from astropy.nddata import CCDData                                                                                                         \n",
    "from astropy.io import fits\n",
    "import ccdproc\n",
    "from ccdproc import Combiner        \n",
    "import numpy as np\n",
    "import numpy.ma as ma\n",
    "import matplotlib.pyplot as plt\n",
    "import glob\n",
    "%matplotlib inline\n",
    "plt.style.use(\"dark_background\")\n",
    "dr = \"/home/fischwagen/prg/astronomy/BDF/\"\n",
    "plt.rcParams['figure.figsize'] = [14, 7]"
   ]
  },
  {
   "cell_type": "code",
   "execution_count": 4,
   "id": "cdac087e-159f-42e1-9feb-923999c21d5e",
   "metadata": {},
   "outputs": [],
   "source": [
    "def trim_fits(arr):\n",
    "    shape = arr.shape\n",
    "    ccd = CCDData(arr, unit=u.adu)\n",
    "    ccd = ccdproc.trim_image(ccd[:shape[0]-17, :])\n",
    "    ccd = ccdproc.trim_image(ccd[:, 12:])\n",
    "    return ccd"
   ]
  },
  {
   "cell_type": "code",
   "execution_count": 12,
   "id": "b5159bd0-c1e0-44e1-8a98-0ea4f563c120",
   "metadata": {},
   "outputs": [],
   "source": [
    "def trim_fits_big(arr):\n",
    "    shape = arr.shape\n",
    "    ccd = CCDData(arr, unit=u.adu)\n",
    "    ccd = ccdproc.trim_image(ccd[:shape[0]-34, :])\n",
    "    ccd = ccdproc.trim_image(ccd[:, 24:])\n",
    "    return ccd"
   ]
  },
  {
   "cell_type": "code",
   "execution_count": 3,
   "id": "aaf849c6-4508-4a3f-a771-576b4fb22886",
   "metadata": {},
   "outputs": [],
   "source": [
    "def rm_overscan(arr):\n",
    "    shape = arr.shape\n",
    "    ccd = CCDData(arr, unit=u.adu)\n",
    "    return ccdproc.subtract_overscan(overscan=im[:shape[0]-34, :])"
   ]
  },
  {
   "cell_type": "code",
   "execution_count": 2,
   "id": "3729c85e-b81d-4d5c-af2a-9ef71d4b5a89",
   "metadata": {},
   "outputs": [],
   "source": [
    "def bin_image(arr, block_size):\n",
    "    return ccdproc.block_average(arr, block_size=block_size)"
   ]
  },
  {
   "cell_type": "code",
   "execution_count": 6,
   "id": "9426afef-0d11-44e9-a5ac-4dac8c0c801f",
   "metadata": {},
   "outputs": [],
   "source": [
    "def create_bias(file_path: str, out_name: str, overwrite=True) -> None:\n",
    "    header_red = False\n",
    "    data = []\n",
    "    files = glob.glob(file_path)\n",
    "    for file in files:\n",
    "        if header_red == False:\n",
    "            header = fits.getheader(file)\n",
    "            header_red == True\n",
    "        ccd = CCDData(fits.getdata(file), unit=u.adu)\n",
    "        data.append(ccd)\n",
    "    combiner = Combiner(data)\n",
    "    combined_median = combiner.median_combine()\n",
    "    #combined_median = ccdproc.subtract_overscan(combined_median, overscan=combined_median[12:, :], overscan_axis=None)\n",
    "    #save_fits(combined_median, out_name, overwrite)\n",
    "    fits.writeto(out_name, combined_median, header, overwrite=overwrite)"
   ]
  },
  {
   "cell_type": "code",
   "execution_count": 8,
   "id": "98cdd3ab-5ad5-4349-8fb7-c43c1720deb4",
   "metadata": {},
   "outputs": [],
   "source": [
    "def create_dark(file_path, out_name, overwrite=True, bias_path=None):\n",
    "    header_red = False\n",
    "    if bias_path is not None:\n",
    "        bias = CCDData(fits.getdata(bias_path), unit=u.adu)\n",
    "        \n",
    "    data = []\n",
    "    files = glob.glob(file_path)\n",
    "    for file in files:\n",
    "        if header_red == False:\n",
    "            header = fits.getheader(file)\n",
    "        ccd = CCDData(fits.getdata(file), unit=u.adu)\n",
    "        data.append(ccd)\n",
    "    \n",
    "    combiner = Combiner(data)\n",
    "    combined_median = combiner.median_combine()\n",
    "    #combined_median = ccdproc.subtract_overscan(combined_median, overscan=combined_median[12:, :], overscan_axis=None)\n",
    "    #save_fits(combined_median, out_name, overwrite)\n",
    "    \n",
    "    if bias_path is not None:\n",
    "        result = combined_median.subtract(bias)\n",
    "        fits.writeto(out_name, result, header, overwrite=overwrite)\n",
    "        #save_fits(result, out_name, overwrite)\n",
    "    else:\n",
    "        fits.writeto(out_name, combined_median, header, overwrite=overwrite)\n",
    "        #save_fits(combined_median, out_name, overwrite)"
   ]
  },
  {
   "cell_type": "code",
   "execution_count": 20,
   "id": "19204c15-d6ac-4de1-8a11-0d15547e0021",
   "metadata": {},
   "outputs": [],
   "source": [
    "def create_flat(file_path, out_name, overwrite=True, bias_path=None, dark_path=None):\n",
    "    header_red = False\n",
    "    bd_remove = False\n",
    "    if bias_path is not None and dark_path is not None:\n",
    "        bd_remove = True\n",
    "        bias_data = fits.getdata(bias_path) \n",
    "        dark_data = fits.getdata(dark_path)\n",
    "        bias_max = np.max(bias_data)\n",
    "        dark_max = np.max(dark_data)\n",
    "        dark = CCDData(bias_data, unit=u.adu)\n",
    "        bias = CCDData(dark_data, unit=u.adu)\n",
    "    elif bias_path is not None or dark_path is not None:\n",
    "        print(\"Error: provide bias and dark images or none\")\n",
    "        exit(1)\n",
    "        \n",
    "    data = []\n",
    "    files = glob.glob(file_path)\n",
    "    for file in files:\n",
    "        fits_file = fits.getdata(file)\n",
    "        if header_red == False:\n",
    "            header = fits.getheader(file, 0)\n",
    "            header_red = True\n",
    "        flat_av = np.mean(fits_file)\n",
    "        ccd = CCDData(fits_file, unit=u.adu)\n",
    "        if bd_remove == True:\n",
    "            ccd = ccd.subtract(bias)\n",
    "            ccd = ccd.subtract(dark)\n",
    "        ccd = ccd.divide(flat_av)\n",
    "        data.append(ccd)\n",
    "    \n",
    "    combiner = Combiner(data)\n",
    "    combined_median = combiner.median_combine()\n",
    "    #combined_median = ccdproc.subtract_overscan(combined_median, overscan=combined_median[12:, :], overscan_axis=None)\n",
    "    #save_fits(combined_median, out_name, overwrite)\n",
    "    #hdulist = combined_median.to_hdu()\n",
    "    #combined_median.write(out_name, overwrite=True)\n",
    "    fits.writeto(out_name, combined_median, header, overwrite=overwrite)"
   ]
  },
  {
   "cell_type": "code",
   "execution_count": 73,
   "id": "b43dfba1-fd73-40a0-ab5a-f2f8ef3364ec",
   "metadata": {},
   "outputs": [],
   "source": [
    "def remove_cold_pixels(arr):\n",
    "    \"\"\"\n",
    "    Function removes pixels with negative values, assuming trimmed image.\n",
    "    \"\"\"\n",
    "    #m = np.array([[0, 0, 0],\n",
    "    #              [0, 1, 0],\n",
    "    #              [0, 0, 0]])\n",
    "    shape = arr.shape\n",
    "    neg_vals = np.where(arr < 0)\n",
    "    for i, j in zip(neg_vals[0], neg_vals[1]):\n",
    "        med = arr[i-1:i+2, j-1:j+2]\n",
    "        #mask_med = ma.array(med, mask=m)\n",
    "        #median = np.median(mask_med)\n",
    "        median = np.median(med)\n",
    "        arr[i, j] = median\n",
    "    return arr"
   ]
  },
  {
   "cell_type": "code",
   "execution_count": 5,
   "id": "8b32f107-4289-4595-90d2-629728314393",
   "metadata": {},
   "outputs": [],
   "source": [
    "def remove_hot_pix(arr, hot_pix_file):\n",
    "    x, y = [], []\n",
    "    with open(hot_pix_file, \"r\") as f:\n",
    "        lines = f.readlines()\n",
    "        for line in lines:\n",
    "            text = line.split()\n",
    "            x.append(int(text[0]))\n",
    "            y.append(int(text[1]))\n",
    "\n",
    "    for i, j in zip(x, y):\n",
    "        med = np.median(arr[i-1:i+2, j-1:j+2])\n",
    "        arr[i, j] = med\n",
    "    return arr"
   ]
  },
  {
   "cell_type": "code",
   "execution_count": 32,
   "id": "4a93eec4-6021-4190-869f-c8a3792b2670",
   "metadata": {},
   "outputs": [],
   "source": [
    "def create_reduced_image(image, bias, dark, flat, out_name):\n",
    "    \"\"\"\n",
    "    Function does image reduction and trimming.\n",
    "    image, bias, dark, flat - paths to images\n",
    "    \"\"\"\n",
    "    header = fits.getheader(image, 0)\n",
    "    im = CCDData.read(image, unit=u.adu)\n",
    "    bs = CCDData.read(bias, unit=u.adu)\n",
    "    dk = CCDData.read(dark, unit=u.adu)\n",
    "    ft = CCDData.read(flat, unit=u.adu)\n",
    "    \n",
    "    im = trim_fits(im)\n",
    "    bs = trim_fits(bs)\n",
    "    dk = trim_fits(dk)\n",
    "    ft = trim_fits(ft)\n",
    "    #dk.header['exposure'] = 180.0\n",
    "    bias_subtracted = ccdproc.subtract_bias(im, bs)\n",
    "    dark_subtracted = ccdproc.subtract_dark(bias_subtracted, dk, exposure_time='EXPOSURE', exposure_unit=u.second, scale=False)\n",
    "    flat_corr = ccdproc.flat_correct(dark_subtracted, ft, min_value=0.001)\n",
    "    fits.writeto(out_name, flat_corr, header, overwrite=True)\n",
    "    reduced = fits.getdata(out_name)\n",
    "    reduced = np.clip(reduced, 0, 65535, dtype=np.uint16)\n",
    "    fits.writeto(out_name, flat_corr, header, overwrite=True)\n",
    "    #save_fits(flat_corr, out_name, True)\n",
    "    #return flat_corr"
   ]
  },
  {
   "cell_type": "code",
   "execution_count": 48,
   "id": "89e4c8e5-cfe7-4d73-9689-277d44832cc1",
   "metadata": {
    "jupyter": {
     "source_hidden": true
    }
   },
   "outputs": [],
   "source": [
    "def create_reduced_image_big(image, bias, dark, flat, out_name):\n",
    "    \"\"\"\n",
    "    Function does image reduction and trimming.\n",
    "    image, bias, dark, flat - paths to images\n",
    "    \"\"\"\n",
    "    header = fits.getheader(image, 0)\n",
    "    im = CCDData.read(image, unit=u.adu)\n",
    "    bs = CCDData.read(bias, unit=u.adu)\n",
    "    dk = CCDData.read(dark, unit=u.adu)\n",
    "    ft = CCDData.read(flat, unit=u.adu)\n",
    "    \n",
    "    im = trim_fits_big(im)\n",
    "    bs = trim_fits_big(bs)\n",
    "    dk = trim_fits_big(dk)\n",
    "    ft = trim_fits_big(ft)\n",
    "    #dk.header['exposure'] = 180.0\n",
    "    bias_subtracted = ccdproc.subtract_bias(im, bs)\n",
    "    dark_subtracted = ccdproc.subtract_dark(bias_subtracted, dk, exposure_time='EXPOSURE', exposure_unit=u.second, scale=False)\n",
    "    flat_corr = ccdproc.flat_correct(dark_subtracted, ft, min_value=0.001)\n",
    "    fits.writeto(out_name, flat_corr, header, overwrite=True)\n",
    "    reduced = fits.getdata(out_name)\n",
    "    reduced = np.clip(reduced, 0, 65535)\n",
    "    reduced = reduced.astype(np.uint16)\n",
    "    #reduced = remove_cold_pixels(reduced)\n",
    "    fits.writeto(out_name, reduced, header, overwrite=True)\n",
    "    #save_fits(flat_corr, out_name, True)\n",
    "    #return flat_corr"
   ]
  },
  {
   "cell_type": "code",
   "execution_count": null,
   "id": "fbbea97f-56bc-4c27-837f-cf424c6998fb",
   "metadata": {},
   "outputs": [],
   "source": []
  }
 ],
 "metadata": {
  "kernelspec": {
   "display_name": "Python 3 (ipykernel)",
   "language": "python",
   "name": "python3"
  },
  "language_info": {
   "codemirror_mode": {
    "name": "ipython",
    "version": 3
   },
   "file_extension": ".py",
   "mimetype": "text/x-python",
   "name": "python",
   "nbconvert_exporter": "python",
   "pygments_lexer": "ipython3",
   "version": "3.12.8"
  }
 },
 "nbformat": 4,
 "nbformat_minor": 5
}
